{
 "cells": [
  {
   "cell_type": "code",
   "execution_count": 48,
   "metadata": {},
   "outputs": [],
   "source": [
    "import os\n",
    "import numpy as np\n",
    "import pandas as pd\n",
    "import seaborn as sns\n",
    "import matplotlib.pyplot as plt\n",
    "import warnings\n",
    "import functools\n",
    "from sklearn.model_selection import train_test_split\n",
    "from sklearn.preprocessing import MinMaxScaler\n",
    "from sklearn.model_selection import cross_val_score, StratifiedKFold\n",
    "from sklearn.metrics import confusion_matrix\n",
    "from sklearn.preprocessing import MinMaxScaler\n",
    "from keras.models import Sequential\n",
    "from keras.layers import Dense, Dropout\n",
    "from keras.callbacks import EarlyStopping\n",
    "from keras.optimizers import AdamW\n",
    "warnings.filterwarnings('ignore')\n",
    "\n",
    "%matplotlib inline"
   ]
  },
  {
   "cell_type": "markdown",
   "metadata": {},
   "source": [
    "# Change to data files or loading all to increate the dataset\n",
    "- you can the data files to differenct one, the healthy can and should remain the same\n",
    "- the faulty ones can be loaded with different names and everything should work fine\n",
    "- in the event that a new file is loaded and the is an issue with the column names, you can change the column names  in the code to reflect what is there in the new file\n",
    "- the code should work fine with the new data files\n",
    "\n",
    "- You can also load all the data files and combine them to increase the dataset\n",
    "- the code should work fine with the new data files\n",
    "- you just have to duplicate the code for the faulty data files and change the names of the dataframes to reflect the new data files\n"
   ]
  },
  {
   "cell_type": "code",
   "execution_count": 2,
   "metadata": {},
   "outputs": [],
   "source": [
    "# data paths\n",
    "fault_current_ab = './data_files/Faulty Conditions/primary__current_AB.xls'\n",
    "fault_voltag_ab = './data_files/Faulty Conditions/primary__voltage_AB.xls'\n",
    "\n",
    "healthy_current_ab = './data_files/No fault conditions(healthy )/primary_current_healthy.xls'\n",
    "healthy_voltage_ab = './data_files/No fault conditions(healthy )/primary_voltage_healthy.xls'"
   ]
  },
  {
   "cell_type": "code",
   "execution_count": 3,
   "metadata": {},
   "outputs": [],
   "source": [
    "# load the faulty data\n",
    "fault_current_ab_df = pd.read_excel(fault_current_ab)\n",
    "fault_voltage_ab_df = pd.read_excel(fault_voltag_ab)\n",
    "\n",
    "# load the healthy data\n",
    "healthy_current_ab_df = pd.read_excel(healthy_current_ab)\n",
    "healthy_voltage_ab_df = pd.read_excel(healthy_voltage_ab)"
   ]
  },
  {
   "cell_type": "code",
   "execution_count": 4,
   "metadata": {},
   "outputs": [
    {
     "data": {
      "text/html": [
       "<div>\n",
       "<style scoped>\n",
       "    .dataframe tbody tr th:only-of-type {\n",
       "        vertical-align: middle;\n",
       "    }\n",
       "\n",
       "    .dataframe tbody tr th {\n",
       "        vertical-align: top;\n",
       "    }\n",
       "\n",
       "    .dataframe thead th {\n",
       "        text-align: right;\n",
       "    }\n",
       "</style>\n",
       "<table border=\"1\" class=\"dataframe\">\n",
       "  <thead>\n",
       "    <tr style=\"text-align: right;\">\n",
       "      <th></th>\n",
       "      <th>time</th>\n",
       "      <th>Ia</th>\n",
       "      <th>Ib</th>\n",
       "      <th>Ic</th>\n",
       "    </tr>\n",
       "  </thead>\n",
       "  <tbody>\n",
       "    <tr>\n",
       "      <th>0</th>\n",
       "      <td>0.0000</td>\n",
       "      <td>0.093038</td>\n",
       "      <td>-3.264580</td>\n",
       "      <td>3.171542</td>\n",
       "    </tr>\n",
       "    <tr>\n",
       "      <th>1</th>\n",
       "      <td>0.0001</td>\n",
       "      <td>0.209712</td>\n",
       "      <td>-3.318798</td>\n",
       "      <td>3.109086</td>\n",
       "    </tr>\n",
       "    <tr>\n",
       "      <th>2</th>\n",
       "      <td>0.0002</td>\n",
       "      <td>0.326180</td>\n",
       "      <td>-3.369741</td>\n",
       "      <td>3.043562</td>\n",
       "    </tr>\n",
       "    <tr>\n",
       "      <th>3</th>\n",
       "      <td>0.0003</td>\n",
       "      <td>0.442321</td>\n",
       "      <td>-3.417357</td>\n",
       "      <td>2.975036</td>\n",
       "    </tr>\n",
       "    <tr>\n",
       "      <th>4</th>\n",
       "      <td>0.0004</td>\n",
       "      <td>0.558029</td>\n",
       "      <td>-3.461601</td>\n",
       "      <td>2.903572</td>\n",
       "    </tr>\n",
       "  </tbody>\n",
       "</table>\n",
       "</div>"
      ],
      "text/plain": [
       "     time        Ia        Ib        Ic\n",
       "0  0.0000  0.093038 -3.264580  3.171542\n",
       "1  0.0001  0.209712 -3.318798  3.109086\n",
       "2  0.0002  0.326180 -3.369741  3.043562\n",
       "3  0.0003  0.442321 -3.417357  2.975036\n",
       "4  0.0004  0.558029 -3.461601  2.903572"
      ]
     },
     "execution_count": 4,
     "metadata": {},
     "output_type": "execute_result"
    }
   ],
   "source": [
    "# show the first 5 rows of the data\n",
    "fault_current_ab_df.head()"
   ]
  },
  {
   "cell_type": "code",
   "execution_count": 5,
   "metadata": {},
   "outputs": [
    {
     "data": {
      "text/html": [
       "<div>\n",
       "<style scoped>\n",
       "    .dataframe tbody tr th:only-of-type {\n",
       "        vertical-align: middle;\n",
       "    }\n",
       "\n",
       "    .dataframe tbody tr th {\n",
       "        vertical-align: top;\n",
       "    }\n",
       "\n",
       "    .dataframe thead th {\n",
       "        text-align: right;\n",
       "    }\n",
       "</style>\n",
       "<table border=\"1\" class=\"dataframe\">\n",
       "  <thead>\n",
       "    <tr style=\"text-align: right;\">\n",
       "      <th></th>\n",
       "      <th>time</th>\n",
       "      <th>Va</th>\n",
       "      <th>Vb</th>\n",
       "      <th>Vc</th>\n",
       "      <th>Ouput</th>\n",
       "      <th>class_voltage</th>\n",
       "    </tr>\n",
       "  </thead>\n",
       "  <tbody>\n",
       "    <tr>\n",
       "      <th>0</th>\n",
       "      <td>0.0000</td>\n",
       "      <td>-1.035892e-07</td>\n",
       "      <td>-0.866022</td>\n",
       "      <td>0.866022</td>\n",
       "      <td>0.0</td>\n",
       "      <td>0</td>\n",
       "    </tr>\n",
       "    <tr>\n",
       "      <th>1</th>\n",
       "      <td>0.0001</td>\n",
       "      <td>3.141053e-02</td>\n",
       "      <td>-0.881300</td>\n",
       "      <td>0.849889</td>\n",
       "      <td>0.0</td>\n",
       "      <td>0</td>\n",
       "    </tr>\n",
       "    <tr>\n",
       "      <th>2</th>\n",
       "      <td>0.0002</td>\n",
       "      <td>6.279016e-02</td>\n",
       "      <td>-0.895708</td>\n",
       "      <td>0.832918</td>\n",
       "      <td>0.0</td>\n",
       "      <td>0</td>\n",
       "    </tr>\n",
       "    <tr>\n",
       "      <th>3</th>\n",
       "      <td>0.0003</td>\n",
       "      <td>9.410782e-02</td>\n",
       "      <td>-0.909232</td>\n",
       "      <td>0.815124</td>\n",
       "      <td>0.0</td>\n",
       "      <td>0</td>\n",
       "    </tr>\n",
       "    <tr>\n",
       "      <th>4</th>\n",
       "      <td>0.0004</td>\n",
       "      <td>1.253326e-01</td>\n",
       "      <td>-0.921859</td>\n",
       "      <td>0.796527</td>\n",
       "      <td>0.0</td>\n",
       "      <td>0</td>\n",
       "    </tr>\n",
       "  </tbody>\n",
       "</table>\n",
       "</div>"
      ],
      "text/plain": [
       "     time            Va        Vb        Vc  Ouput  class_voltage\n",
       "0  0.0000 -1.035892e-07 -0.866022  0.866022    0.0              0\n",
       "1  0.0001  3.141053e-02 -0.881300  0.849889    0.0              0\n",
       "2  0.0002  6.279016e-02 -0.895708  0.832918    0.0              0\n",
       "3  0.0003  9.410782e-02 -0.909232  0.815124    0.0              0\n",
       "4  0.0004  1.253326e-01 -0.921859  0.796527    0.0              0"
      ]
     },
     "execution_count": 5,
     "metadata": {},
     "output_type": "execute_result"
    }
   ],
   "source": [
    "# add a new column to the dataframes to indicate the class\n",
    "# 1 => faulty\n",
    "# 0 => healthy\n",
    "fault_current_ab_df['class_current'] = 1\n",
    "fault_voltage_ab_df['class_voltage'] = 1\n",
    "\n",
    "healthy_current_ab_df['class_current'] = 0\n",
    "healthy_voltage_ab_df['class_voltage'] = 0\n",
    "\n",
    "# show the first 5 rows of the data\n",
    "healthy_voltage_ab_df.head()"
   ]
  },
  {
   "cell_type": "code",
   "execution_count": 6,
   "metadata": {},
   "outputs": [
    {
     "data": {
      "text/html": [
       "<div>\n",
       "<style scoped>\n",
       "    .dataframe tbody tr th:only-of-type {\n",
       "        vertical-align: middle;\n",
       "    }\n",
       "\n",
       "    .dataframe tbody tr th {\n",
       "        vertical-align: top;\n",
       "    }\n",
       "\n",
       "    .dataframe thead th {\n",
       "        text-align: right;\n",
       "    }\n",
       "</style>\n",
       "<table border=\"1\" class=\"dataframe\">\n",
       "  <thead>\n",
       "    <tr style=\"text-align: right;\">\n",
       "      <th></th>\n",
       "      <th>time</th>\n",
       "      <th>Ia</th>\n",
       "      <th>Ib</th>\n",
       "      <th>Ic</th>\n",
       "      <th>class_current</th>\n",
       "    </tr>\n",
       "  </thead>\n",
       "  <tbody>\n",
       "    <tr>\n",
       "      <th>0</th>\n",
       "      <td>0.0000</td>\n",
       "      <td>0.093038</td>\n",
       "      <td>-3.264580</td>\n",
       "      <td>3.171542</td>\n",
       "      <td>1</td>\n",
       "    </tr>\n",
       "    <tr>\n",
       "      <th>1</th>\n",
       "      <td>0.0001</td>\n",
       "      <td>0.209712</td>\n",
       "      <td>-3.318798</td>\n",
       "      <td>3.109086</td>\n",
       "      <td>1</td>\n",
       "    </tr>\n",
       "    <tr>\n",
       "      <th>2</th>\n",
       "      <td>0.0002</td>\n",
       "      <td>0.326180</td>\n",
       "      <td>-3.369741</td>\n",
       "      <td>3.043562</td>\n",
       "      <td>1</td>\n",
       "    </tr>\n",
       "    <tr>\n",
       "      <th>3</th>\n",
       "      <td>0.0003</td>\n",
       "      <td>0.442321</td>\n",
       "      <td>-3.417357</td>\n",
       "      <td>2.975036</td>\n",
       "      <td>1</td>\n",
       "    </tr>\n",
       "    <tr>\n",
       "      <th>4</th>\n",
       "      <td>0.0004</td>\n",
       "      <td>0.558029</td>\n",
       "      <td>-3.461601</td>\n",
       "      <td>2.903572</td>\n",
       "      <td>1</td>\n",
       "    </tr>\n",
       "  </tbody>\n",
       "</table>\n",
       "</div>"
      ],
      "text/plain": [
       "     time        Ia        Ib        Ic  class_current\n",
       "0  0.0000  0.093038 -3.264580  3.171542              1\n",
       "1  0.0001  0.209712 -3.318798  3.109086              1\n",
       "2  0.0002  0.326180 -3.369741  3.043562              1\n",
       "3  0.0003  0.442321 -3.417357  2.975036              1\n",
       "4  0.0004  0.558029 -3.461601  2.903572              1"
      ]
     },
     "execution_count": 6,
     "metadata": {},
     "output_type": "execute_result"
    }
   ],
   "source": [
    "fault_current_ab_df.head()"
   ]
  },
  {
   "cell_type": "code",
   "execution_count": 7,
   "metadata": {},
   "outputs": [],
   "source": [
    "# drop the time column for every dataframe\n",
    "fault_current_ab_df.drop('time', axis=1, inplace=True)\n",
    "fault_voltage_ab_df.drop('time', axis=1, inplace=True)"
   ]
  },
  {
   "cell_type": "code",
   "execution_count": 8,
   "metadata": {},
   "outputs": [],
   "source": [
    "healthy_current_ab_df.drop('time ', axis=1, inplace=True)\n",
    "healthy_voltage_ab_df.drop('time', axis=1, inplace=True)"
   ]
  },
  {
   "cell_type": "code",
   "execution_count": 9,
   "metadata": {},
   "outputs": [
    {
     "data": {
      "text/html": [
       "<div>\n",
       "<style scoped>\n",
       "    .dataframe tbody tr th:only-of-type {\n",
       "        vertical-align: middle;\n",
       "    }\n",
       "\n",
       "    .dataframe tbody tr th {\n",
       "        vertical-align: top;\n",
       "    }\n",
       "\n",
       "    .dataframe thead th {\n",
       "        text-align: right;\n",
       "    }\n",
       "</style>\n",
       "<table border=\"1\" class=\"dataframe\">\n",
       "  <thead>\n",
       "    <tr style=\"text-align: right;\">\n",
       "      <th></th>\n",
       "      <th>Ia</th>\n",
       "      <th>Ib</th>\n",
       "      <th>Ic</th>\n",
       "      <th>class_current</th>\n",
       "    </tr>\n",
       "  </thead>\n",
       "  <tbody>\n",
       "    <tr>\n",
       "      <th>0</th>\n",
       "      <td>0.093038</td>\n",
       "      <td>-3.264580</td>\n",
       "      <td>3.171542</td>\n",
       "      <td>1</td>\n",
       "    </tr>\n",
       "    <tr>\n",
       "      <th>1</th>\n",
       "      <td>0.209712</td>\n",
       "      <td>-3.318798</td>\n",
       "      <td>3.109086</td>\n",
       "      <td>1</td>\n",
       "    </tr>\n",
       "    <tr>\n",
       "      <th>2</th>\n",
       "      <td>0.326180</td>\n",
       "      <td>-3.369741</td>\n",
       "      <td>3.043562</td>\n",
       "      <td>1</td>\n",
       "    </tr>\n",
       "    <tr>\n",
       "      <th>3</th>\n",
       "      <td>0.442321</td>\n",
       "      <td>-3.417357</td>\n",
       "      <td>2.975036</td>\n",
       "      <td>1</td>\n",
       "    </tr>\n",
       "    <tr>\n",
       "      <th>4</th>\n",
       "      <td>0.558029</td>\n",
       "      <td>-3.461601</td>\n",
       "      <td>2.903572</td>\n",
       "      <td>1</td>\n",
       "    </tr>\n",
       "  </tbody>\n",
       "</table>\n",
       "</div>"
      ],
      "text/plain": [
       "         Ia        Ib        Ic  class_current\n",
       "0  0.093038 -3.264580  3.171542              1\n",
       "1  0.209712 -3.318798  3.109086              1\n",
       "2  0.326180 -3.369741  3.043562              1\n",
       "3  0.442321 -3.417357  2.975036              1\n",
       "4  0.558029 -3.461601  2.903572              1"
      ]
     },
     "execution_count": 9,
     "metadata": {},
     "output_type": "execute_result"
    }
   ],
   "source": [
    "# combine the dataframes\n",
    "current_ab_df = pd.concat([fault_current_ab_df, healthy_current_ab_df])\n",
    "voltage_ab_df = pd.concat([fault_voltage_ab_df, healthy_voltage_ab_df])\n",
    "\n",
    "# show the first 5 rows of the data\n",
    "current_ab_df.head()"
   ]
  },
  {
   "cell_type": "code",
   "execution_count": 10,
   "metadata": {},
   "outputs": [
    {
     "data": {
      "text/html": [
       "<div>\n",
       "<style scoped>\n",
       "    .dataframe tbody tr th:only-of-type {\n",
       "        vertical-align: middle;\n",
       "    }\n",
       "\n",
       "    .dataframe tbody tr th {\n",
       "        vertical-align: top;\n",
       "    }\n",
       "\n",
       "    .dataframe thead th {\n",
       "        text-align: right;\n",
       "    }\n",
       "</style>\n",
       "<table border=\"1\" class=\"dataframe\">\n",
       "  <thead>\n",
       "    <tr style=\"text-align: right;\">\n",
       "      <th></th>\n",
       "      <th>Va</th>\n",
       "      <th>Vb</th>\n",
       "      <th>Vc</th>\n",
       "      <th>class_voltage</th>\n",
       "      <th>Ouput</th>\n",
       "    </tr>\n",
       "  </thead>\n",
       "  <tbody>\n",
       "    <tr>\n",
       "      <th>0</th>\n",
       "      <td>-0.000930</td>\n",
       "      <td>-7778.141947</td>\n",
       "      <td>7778.142878</td>\n",
       "      <td>1</td>\n",
       "      <td>NaN</td>\n",
       "    </tr>\n",
       "    <tr>\n",
       "      <th>1</th>\n",
       "      <td>282.112454</td>\n",
       "      <td>-7915.360621</td>\n",
       "      <td>7633.248167</td>\n",
       "      <td>1</td>\n",
       "      <td>NaN</td>\n",
       "    </tr>\n",
       "    <tr>\n",
       "      <th>2</th>\n",
       "      <td>563.947428</td>\n",
       "      <td>-8044.767790</td>\n",
       "      <td>7480.820362</td>\n",
       "      <td>1</td>\n",
       "      <td>NaN</td>\n",
       "    </tr>\n",
       "    <tr>\n",
       "      <th>3</th>\n",
       "      <td>845.225853</td>\n",
       "      <td>-8166.235744</td>\n",
       "      <td>7321.009890</td>\n",
       "      <td>1</td>\n",
       "      <td>NaN</td>\n",
       "    </tr>\n",
       "    <tr>\n",
       "      <th>4</th>\n",
       "      <td>1125.670143</td>\n",
       "      <td>-8279.644609</td>\n",
       "      <td>7153.974466</td>\n",
       "      <td>1</td>\n",
       "      <td>NaN</td>\n",
       "    </tr>\n",
       "  </tbody>\n",
       "</table>\n",
       "</div>"
      ],
      "text/plain": [
       "            Va           Vb           Vc  class_voltage  Ouput\n",
       "0    -0.000930 -7778.141947  7778.142878              1    NaN\n",
       "1   282.112454 -7915.360621  7633.248167              1    NaN\n",
       "2   563.947428 -8044.767790  7480.820362              1    NaN\n",
       "3   845.225853 -8166.235744  7321.009890              1    NaN\n",
       "4  1125.670143 -8279.644609  7153.974466              1    NaN"
      ]
     },
     "execution_count": 10,
     "metadata": {},
     "output_type": "execute_result"
    }
   ],
   "source": [
    "voltage_ab_df.head()"
   ]
  },
  {
   "cell_type": "code",
   "execution_count": 11,
   "metadata": {},
   "outputs": [
    {
     "data": {
      "text/html": [
       "<div>\n",
       "<style scoped>\n",
       "    .dataframe tbody tr th:only-of-type {\n",
       "        vertical-align: middle;\n",
       "    }\n",
       "\n",
       "    .dataframe tbody tr th {\n",
       "        vertical-align: top;\n",
       "    }\n",
       "\n",
       "    .dataframe thead th {\n",
       "        text-align: right;\n",
       "    }\n",
       "</style>\n",
       "<table border=\"1\" class=\"dataframe\">\n",
       "  <thead>\n",
       "    <tr style=\"text-align: right;\">\n",
       "      <th></th>\n",
       "      <th>Ia</th>\n",
       "      <th>Ib</th>\n",
       "      <th>Ic</th>\n",
       "      <th>class_current</th>\n",
       "    </tr>\n",
       "  </thead>\n",
       "  <tbody>\n",
       "    <tr>\n",
       "      <th>34</th>\n",
       "      <td>0.000222</td>\n",
       "      <td>-0.000211</td>\n",
       "      <td>-0.000012</td>\n",
       "      <td>0</td>\n",
       "    </tr>\n",
       "    <tr>\n",
       "      <th>671</th>\n",
       "      <td>0.000194</td>\n",
       "      <td>0.000040</td>\n",
       "      <td>-0.000234</td>\n",
       "      <td>0</td>\n",
       "    </tr>\n",
       "    <tr>\n",
       "      <th>677</th>\n",
       "      <td>0.000161</td>\n",
       "      <td>0.000086</td>\n",
       "      <td>-0.000247</td>\n",
       "      <td>0</td>\n",
       "    </tr>\n",
       "    <tr>\n",
       "      <th>656</th>\n",
       "      <td>535277.629523</td>\n",
       "      <td>-535275.158075</td>\n",
       "      <td>-2.468513</td>\n",
       "      <td>1</td>\n",
       "    </tr>\n",
       "    <tr>\n",
       "      <th>1966</th>\n",
       "      <td>-0.000216</td>\n",
       "      <td>-0.000001</td>\n",
       "      <td>0.000217</td>\n",
       "      <td>0</td>\n",
       "    </tr>\n",
       "  </tbody>\n",
       "</table>\n",
       "</div>"
      ],
      "text/plain": [
       "                 Ia             Ib        Ic  class_current\n",
       "34         0.000222      -0.000211 -0.000012              0\n",
       "671        0.000194       0.000040 -0.000234              0\n",
       "677        0.000161       0.000086 -0.000247              0\n",
       "656   535277.629523 -535275.158075 -2.468513              1\n",
       "1966      -0.000216      -0.000001  0.000217              0"
      ]
     },
     "execution_count": 11,
     "metadata": {},
     "output_type": "execute_result"
    }
   ],
   "source": [
    "# show the first 5 rows of the data\n",
    "current_ab_df.sample(5)"
   ]
  },
  {
   "cell_type": "code",
   "execution_count": 12,
   "metadata": {},
   "outputs": [],
   "source": [
    "# drop the Output column of the voltage_ab_df\n",
    "voltage_ab_df.drop('Ouput', axis=1, inplace=True)"
   ]
  },
  {
   "cell_type": "code",
   "execution_count": 13,
   "metadata": {},
   "outputs": [
    {
     "data": {
      "text/html": [
       "<div>\n",
       "<style scoped>\n",
       "    .dataframe tbody tr th:only-of-type {\n",
       "        vertical-align: middle;\n",
       "    }\n",
       "\n",
       "    .dataframe tbody tr th {\n",
       "        vertical-align: top;\n",
       "    }\n",
       "\n",
       "    .dataframe thead th {\n",
       "        text-align: right;\n",
       "    }\n",
       "</style>\n",
       "<table border=\"1\" class=\"dataframe\">\n",
       "  <thead>\n",
       "    <tr style=\"text-align: right;\">\n",
       "      <th></th>\n",
       "      <th>Va</th>\n",
       "      <th>Vb</th>\n",
       "      <th>Vc</th>\n",
       "      <th>class_voltage</th>\n",
       "    </tr>\n",
       "  </thead>\n",
       "  <tbody>\n",
       "    <tr>\n",
       "      <th>1646</th>\n",
       "      <td>0.992111</td>\n",
       "      <td>-0.604597</td>\n",
       "      <td>-0.387514</td>\n",
       "      <td>0</td>\n",
       "    </tr>\n",
       "    <tr>\n",
       "      <th>152</th>\n",
       "      <td>-8963.702499</td>\n",
       "      <td>3993.458450</td>\n",
       "      <td>4970.244048</td>\n",
       "      <td>1</td>\n",
       "    </tr>\n",
       "    <tr>\n",
       "      <th>1219</th>\n",
       "      <td>0.562081</td>\n",
       "      <td>-0.997310</td>\n",
       "      <td>0.435229</td>\n",
       "      <td>0</td>\n",
       "    </tr>\n",
       "    <tr>\n",
       "      <th>602</th>\n",
       "      <td>-3349.102632</td>\n",
       "      <td>-4131.716976</td>\n",
       "      <td>7480.819646</td>\n",
       "      <td>1</td>\n",
       "    </tr>\n",
       "    <tr>\n",
       "      <th>26</th>\n",
       "      <td>0.728966</td>\n",
       "      <td>-0.957316</td>\n",
       "      <td>0.228350</td>\n",
       "      <td>0</td>\n",
       "    </tr>\n",
       "  </tbody>\n",
       "</table>\n",
       "</div>"
      ],
      "text/plain": [
       "               Va           Vb           Vc  class_voltage\n",
       "1646     0.992111    -0.604597    -0.387514              0\n",
       "152  -8963.702499  3993.458450  4970.244048              1\n",
       "1219     0.562081    -0.997310     0.435229              0\n",
       "602  -3349.102632 -4131.716976  7480.819646              1\n",
       "26       0.728966    -0.957316     0.228350              0"
      ]
     },
     "execution_count": 13,
     "metadata": {},
     "output_type": "execute_result"
    }
   ],
   "source": [
    "voltage_ab_df.sample(5)"
   ]
  },
  {
   "cell_type": "code",
   "execution_count": 14,
   "metadata": {},
   "outputs": [
    {
     "data": {
      "text/html": [
       "<div>\n",
       "<style scoped>\n",
       "    .dataframe tbody tr th:only-of-type {\n",
       "        vertical-align: middle;\n",
       "    }\n",
       "\n",
       "    .dataframe tbody tr th {\n",
       "        vertical-align: top;\n",
       "    }\n",
       "\n",
       "    .dataframe thead th {\n",
       "        text-align: right;\n",
       "    }\n",
       "</style>\n",
       "<table border=\"1\" class=\"dataframe\">\n",
       "  <thead>\n",
       "    <tr style=\"text-align: right;\">\n",
       "      <th></th>\n",
       "      <th>Ia</th>\n",
       "      <th>Ib</th>\n",
       "      <th>Ic</th>\n",
       "      <th>class_current</th>\n",
       "      <th>Va</th>\n",
       "      <th>Vb</th>\n",
       "      <th>Vc</th>\n",
       "      <th>class_voltage</th>\n",
       "    </tr>\n",
       "  </thead>\n",
       "  <tbody>\n",
       "    <tr>\n",
       "      <th>0</th>\n",
       "      <td>0.093038</td>\n",
       "      <td>-3.264580</td>\n",
       "      <td>3.171542</td>\n",
       "      <td>1</td>\n",
       "      <td>-0.000930</td>\n",
       "      <td>-7778.141947</td>\n",
       "      <td>7778.142878</td>\n",
       "      <td>1</td>\n",
       "    </tr>\n",
       "    <tr>\n",
       "      <th>1</th>\n",
       "      <td>0.209712</td>\n",
       "      <td>-3.318798</td>\n",
       "      <td>3.109086</td>\n",
       "      <td>1</td>\n",
       "      <td>282.112454</td>\n",
       "      <td>-7915.360621</td>\n",
       "      <td>7633.248167</td>\n",
       "      <td>1</td>\n",
       "    </tr>\n",
       "    <tr>\n",
       "      <th>2</th>\n",
       "      <td>0.326180</td>\n",
       "      <td>-3.369741</td>\n",
       "      <td>3.043562</td>\n",
       "      <td>1</td>\n",
       "      <td>563.947428</td>\n",
       "      <td>-8044.767790</td>\n",
       "      <td>7480.820362</td>\n",
       "      <td>1</td>\n",
       "    </tr>\n",
       "    <tr>\n",
       "      <th>3</th>\n",
       "      <td>0.442321</td>\n",
       "      <td>-3.417357</td>\n",
       "      <td>2.975036</td>\n",
       "      <td>1</td>\n",
       "      <td>845.225853</td>\n",
       "      <td>-8166.235744</td>\n",
       "      <td>7321.009890</td>\n",
       "      <td>1</td>\n",
       "    </tr>\n",
       "    <tr>\n",
       "      <th>4</th>\n",
       "      <td>0.558029</td>\n",
       "      <td>-3.461601</td>\n",
       "      <td>2.903572</td>\n",
       "      <td>1</td>\n",
       "      <td>1125.670143</td>\n",
       "      <td>-8279.644609</td>\n",
       "      <td>7153.974466</td>\n",
       "      <td>1</td>\n",
       "    </tr>\n",
       "  </tbody>\n",
       "</table>\n",
       "</div>"
      ],
      "text/plain": [
       "         Ia        Ib        Ic  class_current           Va           Vb  \\\n",
       "0  0.093038 -3.264580  3.171542              1    -0.000930 -7778.141947   \n",
       "1  0.209712 -3.318798  3.109086              1   282.112454 -7915.360621   \n",
       "2  0.326180 -3.369741  3.043562              1   563.947428 -8044.767790   \n",
       "3  0.442321 -3.417357  2.975036              1   845.225853 -8166.235744   \n",
       "4  0.558029 -3.461601  2.903572              1  1125.670143 -8279.644609   \n",
       "\n",
       "            Vc  class_voltage  \n",
       "0  7778.142878              1  \n",
       "1  7633.248167              1  \n",
       "2  7480.820362              1  \n",
       "3  7321.009890              1  \n",
       "4  7153.974466              1  "
      ]
     },
     "execution_count": 14,
     "metadata": {},
     "output_type": "execute_result"
    }
   ],
   "source": [
    "# combine the dataframes for voltage and current\n",
    "data = pd.concat([current_ab_df, voltage_ab_df], axis=1)\n",
    "data.head()"
   ]
  },
  {
   "cell_type": "code",
   "execution_count": 15,
   "metadata": {},
   "outputs": [
    {
     "data": {
      "text/plain": [
       "Ia               0\n",
       "Ib               0\n",
       "Ic               0\n",
       "class_current    0\n",
       "Va               0\n",
       "Vb               0\n",
       "Vc               0\n",
       "class_voltage    0\n",
       "dtype: int64"
      ]
     },
     "execution_count": 15,
     "metadata": {},
     "output_type": "execute_result"
    }
   ],
   "source": [
    "# check for missing values\n",
    "data.isnull().sum()"
   ]
  },
  {
   "cell_type": "code",
   "execution_count": 16,
   "metadata": {},
   "outputs": [
    {
     "data": {
      "text/html": [
       "<div>\n",
       "<style scoped>\n",
       "    .dataframe tbody tr th:only-of-type {\n",
       "        vertical-align: middle;\n",
       "    }\n",
       "\n",
       "    .dataframe tbody tr th {\n",
       "        vertical-align: top;\n",
       "    }\n",
       "\n",
       "    .dataframe thead th {\n",
       "        text-align: right;\n",
       "    }\n",
       "</style>\n",
       "<table border=\"1\" class=\"dataframe\">\n",
       "  <thead>\n",
       "    <tr style=\"text-align: right;\">\n",
       "      <th></th>\n",
       "      <th>Ia</th>\n",
       "      <th>Ib</th>\n",
       "      <th>Ic</th>\n",
       "      <th>class_current</th>\n",
       "      <th>Va</th>\n",
       "      <th>Vb</th>\n",
       "      <th>Vc</th>\n",
       "      <th>class_voltage</th>\n",
       "    </tr>\n",
       "  </thead>\n",
       "  <tbody>\n",
       "    <tr>\n",
       "      <th>count</th>\n",
       "      <td>4002.000000</td>\n",
       "      <td>4002.000000</td>\n",
       "      <td>4002.000000</td>\n",
       "      <td>4002.000000</td>\n",
       "      <td>4.002000e+03</td>\n",
       "      <td>4002.000000</td>\n",
       "      <td>4002.000000</td>\n",
       "      <td>4002.000000</td>\n",
       "    </tr>\n",
       "    <tr>\n",
       "      <th>mean</th>\n",
       "      <td>798.197189</td>\n",
       "      <td>-798.204747</td>\n",
       "      <td>0.007540</td>\n",
       "      <td>0.500000</td>\n",
       "      <td>-7.981972e+00</td>\n",
       "      <td>6.038259</td>\n",
       "      <td>1.943713</td>\n",
       "      <td>0.500000</td>\n",
       "    </tr>\n",
       "    <tr>\n",
       "      <th>std</th>\n",
       "      <td>193116.351137</td>\n",
       "      <td>193116.311539</td>\n",
       "      <td>1.860061</td>\n",
       "      <td>0.500062</td>\n",
       "      <td>3.952146e+03</td>\n",
       "      <td>3970.876894</td>\n",
       "      <td>4491.834470</td>\n",
       "      <td>0.500062</td>\n",
       "    </tr>\n",
       "    <tr>\n",
       "      <th>min</th>\n",
       "      <td>-707068.081825</td>\n",
       "      <td>-707068.035009</td>\n",
       "      <td>-3.716667</td>\n",
       "      <td>0.000000</td>\n",
       "      <td>-8.981425e+03</td>\n",
       "      <td>-8980.933810</td>\n",
       "      <td>-8980.933308</td>\n",
       "      <td>0.000000</td>\n",
       "    </tr>\n",
       "    <tr>\n",
       "      <th>25%</th>\n",
       "      <td>-0.000250</td>\n",
       "      <td>-0.000250</td>\n",
       "      <td>-0.000250</td>\n",
       "      <td>0.000000</td>\n",
       "      <td>-9.999959e-01</td>\n",
       "      <td>-32.878062</td>\n",
       "      <td>-0.999941</td>\n",
       "      <td>0.000000</td>\n",
       "    </tr>\n",
       "    <tr>\n",
       "      <th>50%</th>\n",
       "      <td>0.000006</td>\n",
       "      <td>0.000001</td>\n",
       "      <td>0.000004</td>\n",
       "      <td>0.500000</td>\n",
       "      <td>-1.035890e-07</td>\n",
       "      <td>-0.010472</td>\n",
       "      <td>0.010472</td>\n",
       "      <td>0.500000</td>\n",
       "    </tr>\n",
       "    <tr>\n",
       "      <th>75%</th>\n",
       "      <td>0.065998</td>\n",
       "      <td>0.044706</td>\n",
       "      <td>0.044081</td>\n",
       "      <td>1.000000</td>\n",
       "      <td>9.999959e-01</td>\n",
       "      <td>0.999941</td>\n",
       "      <td>70.788938</td>\n",
       "      <td>1.000000</td>\n",
       "    </tr>\n",
       "    <tr>\n",
       "      <th>max</th>\n",
       "      <td>707068.041017</td>\n",
       "      <td>707067.987213</td>\n",
       "      <td>3.787515</td>\n",
       "      <td>1.000000</td>\n",
       "      <td>8.981426e+03</td>\n",
       "      <td>8980.932784</td>\n",
       "      <td>8980.932764</td>\n",
       "      <td>1.000000</td>\n",
       "    </tr>\n",
       "  </tbody>\n",
       "</table>\n",
       "</div>"
      ],
      "text/plain": [
       "                  Ia             Ib           Ic  class_current            Va  \\\n",
       "count    4002.000000    4002.000000  4002.000000    4002.000000  4.002000e+03   \n",
       "mean      798.197189    -798.204747     0.007540       0.500000 -7.981972e+00   \n",
       "std    193116.351137  193116.311539     1.860061       0.500062  3.952146e+03   \n",
       "min   -707068.081825 -707068.035009    -3.716667       0.000000 -8.981425e+03   \n",
       "25%        -0.000250      -0.000250    -0.000250       0.000000 -9.999959e-01   \n",
       "50%         0.000006       0.000001     0.000004       0.500000 -1.035890e-07   \n",
       "75%         0.065998       0.044706     0.044081       1.000000  9.999959e-01   \n",
       "max    707068.041017  707067.987213     3.787515       1.000000  8.981426e+03   \n",
       "\n",
       "                Vb           Vc  class_voltage  \n",
       "count  4002.000000  4002.000000    4002.000000  \n",
       "mean      6.038259     1.943713       0.500000  \n",
       "std    3970.876894  4491.834470       0.500062  \n",
       "min   -8980.933810 -8980.933308       0.000000  \n",
       "25%     -32.878062    -0.999941       0.000000  \n",
       "50%      -0.010472     0.010472       0.500000  \n",
       "75%       0.999941    70.788938       1.000000  \n",
       "max    8980.932784  8980.932764       1.000000  "
      ]
     },
     "execution_count": 16,
     "metadata": {},
     "output_type": "execute_result"
    }
   ],
   "source": [
    "data.describe()"
   ]
  },
  {
   "cell_type": "code",
   "execution_count": 17,
   "metadata": {},
   "outputs": [
    {
     "name": "stdout",
     "output_type": "stream",
     "text": [
      "<class 'pandas.core.frame.DataFrame'>\n",
      "Index: 4002 entries, 0 to 2000\n",
      "Data columns (total 8 columns):\n",
      " #   Column         Non-Null Count  Dtype  \n",
      "---  ------         --------------  -----  \n",
      " 0   Ia             4002 non-null   float64\n",
      " 1   Ib             4002 non-null   float64\n",
      " 2   Ic             4002 non-null   float64\n",
      " 3   class_current  4002 non-null   int64  \n",
      " 4   Va             4002 non-null   float64\n",
      " 5   Vb             4002 non-null   float64\n",
      " 6   Vc             4002 non-null   float64\n",
      " 7   class_voltage  4002 non-null   int64  \n",
      "dtypes: float64(6), int64(2)\n",
      "memory usage: 281.4 KB\n"
     ]
    }
   ],
   "source": [
    "data.info()"
   ]
  },
  {
   "cell_type": "code",
   "execution_count": 18,
   "metadata": {},
   "outputs": [
    {
     "data": {
      "text/html": [
       "<div>\n",
       "<style scoped>\n",
       "    .dataframe tbody tr th:only-of-type {\n",
       "        vertical-align: middle;\n",
       "    }\n",
       "\n",
       "    .dataframe tbody tr th {\n",
       "        vertical-align: top;\n",
       "    }\n",
       "\n",
       "    .dataframe thead th {\n",
       "        text-align: right;\n",
       "    }\n",
       "</style>\n",
       "<table border=\"1\" class=\"dataframe\">\n",
       "  <thead>\n",
       "    <tr style=\"text-align: right;\">\n",
       "      <th></th>\n",
       "      <th>Ia</th>\n",
       "      <th>Ib</th>\n",
       "      <th>Ic</th>\n",
       "      <th>class_current</th>\n",
       "      <th>Va</th>\n",
       "      <th>Vb</th>\n",
       "      <th>Vc</th>\n",
       "      <th>class_voltage</th>\n",
       "      <th>fault</th>\n",
       "    </tr>\n",
       "  </thead>\n",
       "  <tbody>\n",
       "    <tr>\n",
       "      <th>0</th>\n",
       "      <td>0.093038</td>\n",
       "      <td>-3.264580</td>\n",
       "      <td>3.171542</td>\n",
       "      <td>1</td>\n",
       "      <td>-0.000930</td>\n",
       "      <td>-7778.141947</td>\n",
       "      <td>7778.142878</td>\n",
       "      <td>1</td>\n",
       "      <td>1</td>\n",
       "    </tr>\n",
       "    <tr>\n",
       "      <th>1</th>\n",
       "      <td>0.209712</td>\n",
       "      <td>-3.318798</td>\n",
       "      <td>3.109086</td>\n",
       "      <td>1</td>\n",
       "      <td>282.112454</td>\n",
       "      <td>-7915.360621</td>\n",
       "      <td>7633.248167</td>\n",
       "      <td>1</td>\n",
       "      <td>1</td>\n",
       "    </tr>\n",
       "    <tr>\n",
       "      <th>2</th>\n",
       "      <td>0.326180</td>\n",
       "      <td>-3.369741</td>\n",
       "      <td>3.043562</td>\n",
       "      <td>1</td>\n",
       "      <td>563.947428</td>\n",
       "      <td>-8044.767790</td>\n",
       "      <td>7480.820362</td>\n",
       "      <td>1</td>\n",
       "      <td>1</td>\n",
       "    </tr>\n",
       "    <tr>\n",
       "      <th>3</th>\n",
       "      <td>0.442321</td>\n",
       "      <td>-3.417357</td>\n",
       "      <td>2.975036</td>\n",
       "      <td>1</td>\n",
       "      <td>845.225853</td>\n",
       "      <td>-8166.235744</td>\n",
       "      <td>7321.009890</td>\n",
       "      <td>1</td>\n",
       "      <td>1</td>\n",
       "    </tr>\n",
       "    <tr>\n",
       "      <th>4</th>\n",
       "      <td>0.558029</td>\n",
       "      <td>-3.461601</td>\n",
       "      <td>2.903572</td>\n",
       "      <td>1</td>\n",
       "      <td>1125.670143</td>\n",
       "      <td>-8279.644609</td>\n",
       "      <td>7153.974466</td>\n",
       "      <td>1</td>\n",
       "      <td>1</td>\n",
       "    </tr>\n",
       "  </tbody>\n",
       "</table>\n",
       "</div>"
      ],
      "text/plain": [
       "         Ia        Ib        Ic  class_current           Va           Vb  \\\n",
       "0  0.093038 -3.264580  3.171542              1    -0.000930 -7778.141947   \n",
       "1  0.209712 -3.318798  3.109086              1   282.112454 -7915.360621   \n",
       "2  0.326180 -3.369741  3.043562              1   563.947428 -8044.767790   \n",
       "3  0.442321 -3.417357  2.975036              1   845.225853 -8166.235744   \n",
       "4  0.558029 -3.461601  2.903572              1  1125.670143 -8279.644609   \n",
       "\n",
       "            Vc  class_voltage  fault  \n",
       "0  7778.142878              1      1  \n",
       "1  7633.248167              1      1  \n",
       "2  7480.820362              1      1  \n",
       "3  7321.009890              1      1  \n",
       "4  7153.974466              1      1  "
      ]
     },
     "execution_count": 18,
     "metadata": {},
     "output_type": "execute_result"
    }
   ],
   "source": [
    "# if class_voltage = 0 and class_current = 0, we set fault to 0, otherwise 1\n",
    "data['fault'] = data['class_voltage'] + data['class_current']\n",
    "data['fault'] = data['fault'].apply(lambda x: 1 if x > 0 else 0)\n",
    "\n",
    "data.head()"
   ]
  },
  {
   "cell_type": "code",
   "execution_count": 19,
   "metadata": {},
   "outputs": [
    {
     "data": {
      "text/html": [
       "<div>\n",
       "<style scoped>\n",
       "    .dataframe tbody tr th:only-of-type {\n",
       "        vertical-align: middle;\n",
       "    }\n",
       "\n",
       "    .dataframe tbody tr th {\n",
       "        vertical-align: top;\n",
       "    }\n",
       "\n",
       "    .dataframe thead th {\n",
       "        text-align: right;\n",
       "    }\n",
       "</style>\n",
       "<table border=\"1\" class=\"dataframe\">\n",
       "  <thead>\n",
       "    <tr style=\"text-align: right;\">\n",
       "      <th></th>\n",
       "      <th>Ia</th>\n",
       "      <th>Ib</th>\n",
       "      <th>Ic</th>\n",
       "      <th>class_current</th>\n",
       "      <th>Va</th>\n",
       "      <th>Vb</th>\n",
       "      <th>Vc</th>\n",
       "      <th>class_voltage</th>\n",
       "      <th>fault</th>\n",
       "    </tr>\n",
       "  </thead>\n",
       "  <tbody>\n",
       "    <tr>\n",
       "      <th>637</th>\n",
       "      <td>702420.844992</td>\n",
       "      <td>-702420.388715</td>\n",
       "      <td>-0.455760</td>\n",
       "      <td>1</td>\n",
       "      <td>1218.570274</td>\n",
       "      <td>-186.271143</td>\n",
       "      <td>-1032.299137</td>\n",
       "      <td>1</td>\n",
       "      <td>1</td>\n",
       "    </tr>\n",
       "    <tr>\n",
       "      <th>556</th>\n",
       "      <td>-0.000245</td>\n",
       "      <td>0.000076</td>\n",
       "      <td>0.000168</td>\n",
       "      <td>0</td>\n",
       "      <td>-0.982283</td>\n",
       "      <td>0.328865</td>\n",
       "      <td>0.653418</td>\n",
       "      <td>0</td>\n",
       "      <td>0</td>\n",
       "    </tr>\n",
       "    <tr>\n",
       "      <th>534</th>\n",
       "      <td>-0.000222</td>\n",
       "      <td>0.000211</td>\n",
       "      <td>0.000012</td>\n",
       "      <td>0</td>\n",
       "      <td>-0.876303</td>\n",
       "      <td>0.855361</td>\n",
       "      <td>0.020942</td>\n",
       "      <td>0</td>\n",
       "      <td>0</td>\n",
       "    </tr>\n",
       "    <tr>\n",
       "      <th>175</th>\n",
       "      <td>-0.000173</td>\n",
       "      <td>-0.000071</td>\n",
       "      <td>0.000243</td>\n",
       "      <td>0</td>\n",
       "      <td>-0.707104</td>\n",
       "      <td>-0.258818</td>\n",
       "      <td>0.965922</td>\n",
       "      <td>0</td>\n",
       "      <td>0</td>\n",
       "    </tr>\n",
       "    <tr>\n",
       "      <th>298</th>\n",
       "      <td>0.140464</td>\n",
       "      <td>3.146538</td>\n",
       "      <td>-3.287002</td>\n",
       "      <td>1</td>\n",
       "      <td>563.949285</td>\n",
       "      <td>7480.819332</td>\n",
       "      <td>-8044.768617</td>\n",
       "      <td>1</td>\n",
       "      <td>1</td>\n",
       "    </tr>\n",
       "  </tbody>\n",
       "</table>\n",
       "</div>"
      ],
      "text/plain": [
       "                Ia             Ib        Ic  class_current           Va  \\\n",
       "637  702420.844992 -702420.388715 -0.455760              1  1218.570274   \n",
       "556      -0.000245       0.000076  0.000168              0    -0.982283   \n",
       "534      -0.000222       0.000211  0.000012              0    -0.876303   \n",
       "175      -0.000173      -0.000071  0.000243              0    -0.707104   \n",
       "298       0.140464       3.146538 -3.287002              1   563.949285   \n",
       "\n",
       "              Vb           Vc  class_voltage  fault  \n",
       "637  -186.271143 -1032.299137              1      1  \n",
       "556     0.328865     0.653418              0      0  \n",
       "534     0.855361     0.020942              0      0  \n",
       "175    -0.258818     0.965922              0      0  \n",
       "298  7480.819332 -8044.768617              1      1  "
      ]
     },
     "execution_count": 19,
     "metadata": {},
     "output_type": "execute_result"
    }
   ],
   "source": [
    "data.sample(5)"
   ]
  },
  {
   "cell_type": "code",
   "execution_count": 20,
   "metadata": {},
   "outputs": [
    {
     "data": {
      "text/html": [
       "<div>\n",
       "<style scoped>\n",
       "    .dataframe tbody tr th:only-of-type {\n",
       "        vertical-align: middle;\n",
       "    }\n",
       "\n",
       "    .dataframe tbody tr th {\n",
       "        vertical-align: top;\n",
       "    }\n",
       "\n",
       "    .dataframe thead th {\n",
       "        text-align: right;\n",
       "    }\n",
       "</style>\n",
       "<table border=\"1\" class=\"dataframe\">\n",
       "  <thead>\n",
       "    <tr style=\"text-align: right;\">\n",
       "      <th></th>\n",
       "      <th>Ia</th>\n",
       "      <th>Ib</th>\n",
       "      <th>Ic</th>\n",
       "      <th>Va</th>\n",
       "      <th>Vb</th>\n",
       "      <th>Vc</th>\n",
       "      <th>fault</th>\n",
       "    </tr>\n",
       "  </thead>\n",
       "  <tbody>\n",
       "    <tr>\n",
       "      <th>109</th>\n",
       "      <td>-1.126051</td>\n",
       "      <td>3.630829</td>\n",
       "      <td>-2.504778</td>\n",
       "      <td>-2505.736866</td>\n",
       "      <td>8722.169703</td>\n",
       "      <td>-6216.432837</td>\n",
       "      <td>1</td>\n",
       "    </tr>\n",
       "    <tr>\n",
       "      <th>1385</th>\n",
       "      <td>-0.000108</td>\n",
       "      <td>-0.000142</td>\n",
       "      <td>0.000250</td>\n",
       "      <td>-0.453989</td>\n",
       "      <td>-0.544637</td>\n",
       "      <td>0.998625</td>\n",
       "      <td>0</td>\n",
       "    </tr>\n",
       "    <tr>\n",
       "      <th>775</th>\n",
       "      <td>-183014.524400</td>\n",
       "      <td>183010.862520</td>\n",
       "      <td>3.657542</td>\n",
       "      <td>-4520.707735</td>\n",
       "      <td>-4154.682126</td>\n",
       "      <td>8675.389905</td>\n",
       "      <td>1</td>\n",
       "    </tr>\n",
       "    <tr>\n",
       "      <th>1316</th>\n",
       "      <td>-1.937676</td>\n",
       "      <td>3.782717</td>\n",
       "      <td>-1.845041</td>\n",
       "      <td>-4326.833129</td>\n",
       "      <td>8979.454780</td>\n",
       "      <td>-4652.621651</td>\n",
       "      <td>1</td>\n",
       "    </tr>\n",
       "    <tr>\n",
       "      <th>1695</th>\n",
       "      <td>0.000033</td>\n",
       "      <td>0.000198</td>\n",
       "      <td>-0.000231</td>\n",
       "      <td>0.156434</td>\n",
       "      <td>0.777143</td>\n",
       "      <td>-0.933577</td>\n",
       "      <td>0</td>\n",
       "    </tr>\n",
       "  </tbody>\n",
       "</table>\n",
       "</div>"
      ],
      "text/plain": [
       "                 Ia             Ib        Ic           Va           Vb  \\\n",
       "109       -1.126051       3.630829 -2.504778 -2505.736866  8722.169703   \n",
       "1385      -0.000108      -0.000142  0.000250    -0.453989    -0.544637   \n",
       "775  -183014.524400  183010.862520  3.657542 -4520.707735 -4154.682126   \n",
       "1316      -1.937676       3.782717 -1.845041 -4326.833129  8979.454780   \n",
       "1695       0.000033       0.000198 -0.000231     0.156434     0.777143   \n",
       "\n",
       "               Vc  fault  \n",
       "109  -6216.432837      1  \n",
       "1385     0.998625      0  \n",
       "775   8675.389905      1  \n",
       "1316 -4652.621651      1  \n",
       "1695    -0.933577      0  "
      ]
     },
     "execution_count": 20,
     "metadata": {},
     "output_type": "execute_result"
    }
   ],
   "source": [
    "# drop the class_current and class_voltage columns\n",
    "data.drop(['class_current', 'class_voltage'], axis=1, inplace=True)\n",
    "data.sample(5)"
   ]
  },
  {
   "cell_type": "code",
   "execution_count": 21,
   "metadata": {},
   "outputs": [],
   "source": [
    "features = data.drop('fault', axis=1)\n",
    "target = data['fault']"
   ]
  },
  {
   "cell_type": "code",
   "execution_count": 22,
   "metadata": {},
   "outputs": [
    {
     "data": {
      "image/png": "[encoded data removed]",
      "text/plain": [
       "<Figure size 1000x1000 with 2 Axes>"
      ]
     },
     "metadata": {},
     "output_type": "display_data"
    }
   ],
   "source": [
    "# plot the correlation matrix\n",
    "plt.figure(figsize=(10, 10))\n",
    "sns.heatmap(data.corr(), annot=True, fmt='.2f', cmap='coolwarm')\n",
    "plt.show()"
   ]
  },
  {
   "cell_type": "code",
   "execution_count": 23,
   "metadata": {},
   "outputs": [],
   "source": [
    "def split_and_scale(feature):\n",
    "    X = data.drop([feature],axis=1)\n",
    "    y = data[feature]\n",
    "    X_train, X_test, y_train, y_test = train_test_split(X, y, test_size=.30, random_state=42)\n",
    "    kfold = StratifiedKFold(n_splits=10)\n",
    "    scaler = MinMaxScaler()\n",
    "    X_train = scaler.fit_transform(X_train)\n",
    "    X_test = scaler.transform(X_test)\n",
    "    return X_train, X_test, y_train, y_test, kfold\n",
    "\n",
    "def cross_val(classifiers, X_train, y_train, kfold):\n",
    "    cv_results = []\n",
    "    for classifier in classifiers.values():\n",
    "        cv_score = cross_val_score(classifier, X_train, y = y_train, scoring = \"accuracy\", cv = kfold, n_jobs=4)\n",
    "        cv_results.append(cv_score)\n",
    "\n",
    "    cv_means = [i.mean() for i in cv_results]\n",
    "    cv_std = [i.std() for i in cv_results]\n",
    "    cv_res = pd.DataFrame({\n",
    "        \"CrossValMeans\": cv_means, \n",
    "        \"CrossValerrors\": cv_std, \n",
    "        \"Algorithm\": classifiers.keys()\n",
    "    })\n",
    "    return cv_results, cv_means, cv_std, cv_res\n",
    "\n",
    "\n",
    "def show_values(axs, orient=\"v\", space=.01):\n",
    "    def _single(ax):\n",
    "        if orient == \"v\":\n",
    "            for p in ax.patches:\n",
    "                _x = p.get_x() + p.get_width() / 2\n",
    "                _y = p.get_y() + p.get_height() + (p.get_height()*0.01)\n",
    "                value = '{:.3f}'.format(p.get_height())\n",
    "                ax.text(_x, _y, value, ha=\"center\") \n",
    "        elif orient == \"h\":\n",
    "            for p in ax.patches:\n",
    "                _x = p.get_x() + p.get_width() + float(space)\n",
    "                _y = p.get_y() + p.get_height() - (p.get_height()*0.5)\n",
    "                value = '{:.3f}'.format(p.get_width())\n",
    "                ax.text(_x, _y, value, ha=\"left\")\n",
    "\n",
    "    if isinstance(axs, np.ndarray):\n",
    "        for idx, ax in np.ndenumerate(axs):\n",
    "            _single(ax)\n",
    "    else:\n",
    "        _single(axs)\n",
    "\n",
    "def plot_mean_accuracy(cv_res, cv_std, target):\n",
    "    _, ax = plt.subplots(figsize=(8, 6))\n",
    "    g = sns.barplot(ax=ax, data=cv_res, x=\"CrossValMeans\", y=\"Algorithm\", palette=\"Set3\", orient = \"h\",**{'xerr': cv_std})\n",
    "    g.set_xlabel(\"Mean Accuracy\")\n",
    "    g.set_title(target + \" Cross validation scores\")\n",
    "    show_values(g, \"h\", space=0)\n",
    "    \n",
    "    \n",
    "# def model_test(model, parameters, X_train, X_test, y_train, y_test):\n",
    "#     classifiers[model] = GridSearchCV(classifiers[model], parameters, cv=4, verbose=1, n_jobs=6)\n",
    "#     start = time.time()\n",
    "#     classifiers[model].fit(X_train, y_train)\n",
    "#     stop = time.time()\n",
    "#     print(f\"Training time: {stop - start}s\")\n",
    "#     print(f\"Best parameters: {classifiers[model].best_params_}\")\n",
    "#     y_hat = classifiers[model].predict(X_test)\n",
    "#     cfm = confusion_matrix(y_test, y_hat)\n",
    "#     print(f'Confusion Matrix: \\n{cfm}')\n",
    "#     print(f'{model}: {accuracy_score(y_hat, y_test)*100 :.2f}%')\n",
    "    \n"
   ]
  },
  {
   "cell_type": "code",
   "execution_count": 24,
   "metadata": {},
   "outputs": [],
   "source": [
    "# split and scale the data\n",
    "X_train, X_test, y_train, y_test, kfold = split_and_scale('fault')\n"
   ]
  },
  {
   "cell_type": "code",
   "execution_count": 25,
   "metadata": {},
   "outputs": [
    {
     "data": {
      "text/plain": [
       "((2801, 6), (1201, 6), (2801,), (1201,))"
      ]
     },
     "execution_count": 25,
     "metadata": {},
     "output_type": "execute_result"
    }
   ],
   "source": [
    "X_train.shape, X_test.shape, y_train.shape, y_test.shape"
   ]
  },
  {
   "cell_type": "code",
   "execution_count": 26,
   "metadata": {},
   "outputs": [
    {
     "data": {
      "text/plain": [
       "fault\n",
       "0    1421\n",
       "1    1380\n",
       "Name: count, dtype: int64"
      ]
     },
     "execution_count": 26,
     "metadata": {},
     "output_type": "execute_result"
    }
   ],
   "source": [
    "y_train.value_counts()"
   ]
  },
  {
   "cell_type": "markdown",
   "metadata": {},
   "source": [
    "# Normalize Data"
   ]
  },
  {
   "cell_type": "code",
   "execution_count": 27,
   "metadata": {},
   "outputs": [],
   "source": [
    "scaler = MinMaxScaler()\n",
    "X_train = scaler.fit_transform(X_train)\n",
    "X_test = scaler.transform(X_test)"
   ]
  },
  {
   "cell_type": "code",
   "execution_count": 28,
   "metadata": {},
   "outputs": [
    {
     "data": {
      "text/plain": [
       "((2801, 6), (1201, 6))"
      ]
     },
     "execution_count": 28,
     "metadata": {},
     "output_type": "execute_result"
    }
   ],
   "source": [
    "# show the shape of the train and test data\n",
    "X_train.shape, X_test.shape"
   ]
  },
  {
   "cell_type": "code",
   "execution_count": 29,
   "metadata": {},
   "outputs": [
    {
     "data": {
      "text/plain": [
       "((2801,), (1201,))"
      ]
     },
     "execution_count": 29,
     "metadata": {},
     "output_type": "execute_result"
    }
   ],
   "source": [
    "y_train.shape, y_test.shape"
   ]
  },
  {
   "cell_type": "code",
   "execution_count": 30,
   "metadata": {},
   "outputs": [
    {
     "data": {
      "text/plain": [
       "(fault\n",
       " 0    1421\n",
       " 1    1380\n",
       " Name: count, dtype: int64,\n",
       " fault\n",
       " 1    621\n",
       " 0    580\n",
       " Name: count, dtype: int64)"
      ]
     },
     "execution_count": 30,
     "metadata": {},
     "output_type": "execute_result"
    }
   ],
   "source": [
    "y_train.value_counts(), y_test.value_counts()"
   ]
  },
  {
   "cell_type": "code",
   "execution_count": 31,
   "metadata": {},
   "outputs": [
    {
     "data": {
      "text/plain": [
       "2"
      ]
     },
     "execution_count": 31,
     "metadata": {},
     "output_type": "execute_result"
    }
   ],
   "source": [
    "len(set(y_train)) # number of output clases"
   ]
  },
  {
   "cell_type": "code",
   "execution_count": 32,
   "metadata": {},
   "outputs": [],
   "source": [
    "# create ANN model with back propagation\n",
    "\n",
    "# Define the model\n",
    "# model = Sequential([\n",
    "#     # First hidden layer with ReLU activation and dropout for regularization\n",
    "#     Dense(units=64, activation=\"relu\", input_shape=(X_train.shape[1],)),\n",
    "#     Dropout(rate=0.2),\n",
    "#     # Second hidden layer with ReLU activation and dropout\n",
    "#     Dense(units=32, activation=\"relu\"),\n",
    "#     Dropout(rate=0.2),\n",
    "#     # Third hidden layer with ReLU activation\n",
    "#     Dense(units=16, activation=\"relu\"),\n",
    "#     # Output layer with softmax activation\n",
    "#     Dense(units=len(set(y_train)), activation=\"softmax\")\n",
    "# ])\n",
    "\n",
    "model = Sequential([\n",
    "    # First hidden layer with ReLU activation and dropout for regularization\n",
    "    Dense(units=64, activation=\"relu\", input_shape=(X_train.shape[1],)),\n",
    "    Dropout(rate=0.2),\n",
    "    # Second hidden layer with ReLU activation and dropout\n",
    "    Dense(units=32, activation=\"relu\"),\n",
    "    Dropout(rate=0.2),\n",
    "    # Third hidden layer with ReLU activation\n",
    "    Dense(units=16, activation=\"relu\"),\n",
    "    # Output layer with softmax activation\n",
    "    Dense(units=1, activation=\"sigmoid\")  # [0.0056, 0.001] -> 0.0056 -> [1, 0]\n",
    "])\n",
    "\n",
    "early_stop = EarlyStopping(monitor='val_loss', mode='min', verbose=1, patience=10)\n"
   ]
  },
  {
   "cell_type": "code",
   "execution_count": 33,
   "metadata": {},
   "outputs": [],
   "source": [
    "# Compile the model with AdamW optimizer\n",
    "model.compile(loss=\"binary_crossentropy\", optimizer=AdamW(learning_rate=0.001), metrics=[\"accuracy\"])"
   ]
  },
  {
   "cell_type": "code",
   "execution_count": 34,
   "metadata": {},
   "outputs": [
    {
     "name": "stdout",
     "output_type": "stream",
     "text": [
      "Epoch 1/100\n",
      "\u001b[1m88/88\u001b[0m \u001b[32m━━━━━━━━━━━━━━━━━━━━\u001b[0m\u001b[37m\u001b[0m \u001b[1m5s\u001b[0m 6ms/step - accuracy: 0.6704 - loss: 0.6590 - val_accuracy: 0.9142 - val_loss: 0.4446\n",
      "Epoch 2/100\n",
      "\u001b[1m88/88\u001b[0m \u001b[32m━━━━━━━━━━━━━━━━━━━━\u001b[0m\u001b[37m\u001b[0m \u001b[1m0s\u001b[0m 2ms/step - accuracy: 0.9358 - loss: 0.3624 - val_accuracy: 1.0000 - val_loss: 0.0670\n",
      "Epoch 3/100\n",
      "\u001b[1m88/88\u001b[0m \u001b[32m━━━━━━━━━━━━━━━━━━━━\u001b[0m\u001b[37m\u001b[0m \u001b[1m0s\u001b[0m 2ms/step - accuracy: 0.9915 - loss: 0.0818 - val_accuracy: 1.0000 - val_loss: 0.0112\n",
      "Epoch 4/100\n",
      "\u001b[1m88/88\u001b[0m \u001b[32m━━━━━━━━━━━━━━━━━━━━\u001b[0m\u001b[37m\u001b[0m \u001b[1m0s\u001b[0m 2ms/step - accuracy: 0.9978 - loss: 0.0234 - val_accuracy: 1.0000 - val_loss: 0.0036\n",
      "Epoch 5/100\n",
      "\u001b[1m88/88\u001b[0m \u001b[32m━━━━━━━━━━━━━━━━━━━━\u001b[0m\u001b[37m\u001b[0m \u001b[1m0s\u001b[0m 2ms/step - accuracy: 0.9982 - loss: 0.0137 - val_accuracy: 1.0000 - val_loss: 0.0013\n",
      "Epoch 6/100\n",
      "\u001b[1m88/88\u001b[0m \u001b[32m━━━━━━━━━━━━━━━━━━━━\u001b[0m\u001b[37m\u001b[0m \u001b[1m0s\u001b[0m 3ms/step - accuracy: 0.9992 - loss: 0.0076 - val_accuracy: 1.0000 - val_loss: 6.3366e-04\n",
      "Epoch 7/100\n",
      "\u001b[1m88/88\u001b[0m \u001b[32m━━━━━━━━━━━━━━━━━━━━\u001b[0m\u001b[37m\u001b[0m \u001b[1m0s\u001b[0m 4ms/step - accuracy: 0.9971 - loss: 0.0081 - val_accuracy: 1.0000 - val_loss: 3.6906e-04\n",
      "Epoch 8/100\n",
      "\u001b[1m88/88\u001b[0m \u001b[32m━━━━━━━━━━━━━━━━━━━━\u001b[0m\u001b[37m\u001b[0m \u001b[1m0s\u001b[0m 3ms/step - accuracy: 0.9989 - loss: 0.0047 - val_accuracy: 1.0000 - val_loss: 3.4920e-04\n",
      "Epoch 9/100\n",
      "\u001b[1m88/88\u001b[0m \u001b[32m━━━━━━━━━━━━━━━━━━━━\u001b[0m\u001b[37m\u001b[0m \u001b[1m0s\u001b[0m 3ms/step - accuracy: 0.9995 - loss: 0.0029 - val_accuracy: 1.0000 - val_loss: 2.6510e-04\n",
      "Epoch 10/100\n",
      "\u001b[1m88/88\u001b[0m \u001b[32m━━━━━━━━━━━━━━━━━━━━\u001b[0m\u001b[37m\u001b[0m \u001b[1m0s\u001b[0m 3ms/step - accuracy: 1.0000 - loss: 0.0024 - val_accuracy: 1.0000 - val_loss: 1.9068e-04\n",
      "Epoch 11/100\n",
      "\u001b[1m88/88\u001b[0m \u001b[32m━━━━━━━━━━━━━━━━━━━━\u001b[0m\u001b[37m\u001b[0m \u001b[1m0s\u001b[0m 3ms/step - accuracy: 1.0000 - loss: 0.0010 - val_accuracy: 1.0000 - val_loss: 2.7315e-04\n",
      "Epoch 12/100\n",
      "\u001b[1m88/88\u001b[0m \u001b[32m━━━━━━━━━━━━━━━━━━━━\u001b[0m\u001b[37m\u001b[0m \u001b[1m0s\u001b[0m 3ms/step - accuracy: 1.0000 - loss: 0.0015 - val_accuracy: 1.0000 - val_loss: 8.3632e-05\n",
      "Epoch 13/100\n",
      "\u001b[1m88/88\u001b[0m \u001b[32m━━━━━━━━━━━━━━━━━━━━\u001b[0m\u001b[37m\u001b[0m \u001b[1m0s\u001b[0m 4ms/step - accuracy: 0.9996 - loss: 0.0014 - val_accuracy: 1.0000 - val_loss: 8.8795e-05\n",
      "Epoch 14/100\n",
      "\u001b[1m88/88\u001b[0m \u001b[32m━━━━━━━━━━━━━━━━━━━━\u001b[0m\u001b[37m\u001b[0m \u001b[1m0s\u001b[0m 3ms/step - accuracy: 1.0000 - loss: 6.9781e-04 - val_accuracy: 1.0000 - val_loss: 9.0138e-05\n",
      "Epoch 15/100\n",
      "\u001b[1m88/88\u001b[0m \u001b[32m━━━━━━━━━━━━━━━━━━━━\u001b[0m\u001b[37m\u001b[0m \u001b[1m0s\u001b[0m 3ms/step - accuracy: 0.9996 - loss: 9.6431e-04 - val_accuracy: 1.0000 - val_loss: 5.0247e-05\n",
      "Epoch 16/100\n",
      "\u001b[1m88/88\u001b[0m \u001b[32m━━━━━━━━━━━━━━━━━━━━\u001b[0m\u001b[37m\u001b[0m \u001b[1m0s\u001b[0m 3ms/step - accuracy: 1.0000 - loss: 5.5731e-04 - val_accuracy: 1.0000 - val_loss: 3.4171e-05\n",
      "Epoch 17/100\n",
      "\u001b[1m88/88\u001b[0m \u001b[32m━━━━━━━━━━━━━━━━━━━━\u001b[0m\u001b[37m\u001b[0m \u001b[1m0s\u001b[0m 3ms/step - accuracy: 0.9993 - loss: 0.0013 - val_accuracy: 1.0000 - val_loss: 4.6204e-05\n",
      "Epoch 18/100\n",
      "\u001b[1m88/88\u001b[0m \u001b[32m━━━━━━━━━━━━━━━━━━━━\u001b[0m\u001b[37m\u001b[0m \u001b[1m0s\u001b[0m 3ms/step - accuracy: 0.9997 - loss: 9.7387e-04 - val_accuracy: 1.0000 - val_loss: 4.1658e-05\n",
      "Epoch 19/100\n",
      "\u001b[1m88/88\u001b[0m \u001b[32m━━━━━━━━━━━━━━━━━━━━\u001b[0m\u001b[37m\u001b[0m \u001b[1m0s\u001b[0m 3ms/step - accuracy: 1.0000 - loss: 4.8252e-04 - val_accuracy: 1.0000 - val_loss: 2.5727e-05\n",
      "Epoch 20/100\n",
      "\u001b[1m88/88\u001b[0m \u001b[32m━━━━━━━━━━━━━━━━━━━━\u001b[0m\u001b[37m\u001b[0m \u001b[1m0s\u001b[0m 3ms/step - accuracy: 1.0000 - loss: 2.9121e-04 - val_accuracy: 1.0000 - val_loss: 1.6990e-05\n",
      "Epoch 21/100\n",
      "\u001b[1m88/88\u001b[0m \u001b[32m━━━━━━━━━━━━━━━━━━━━\u001b[0m\u001b[37m\u001b[0m \u001b[1m0s\u001b[0m 3ms/step - accuracy: 0.9998 - loss: 4.6016e-04 - val_accuracy: 1.0000 - val_loss: 2.5495e-05\n",
      "Epoch 22/100\n",
      "\u001b[1m88/88\u001b[0m \u001b[32m━━━━━━━━━━━━━━━━━━━━\u001b[0m\u001b[37m\u001b[0m \u001b[1m0s\u001b[0m 3ms/step - accuracy: 0.9998 - loss: 5.7134e-04 - val_accuracy: 1.0000 - val_loss: 2.6568e-05\n",
      "Epoch 23/100\n",
      "\u001b[1m88/88\u001b[0m \u001b[32m━━━━━━━━━━━━━━━━━━━━\u001b[0m\u001b[37m\u001b[0m \u001b[1m0s\u001b[0m 3ms/step - accuracy: 1.0000 - loss: 3.6185e-04 - val_accuracy: 1.0000 - val_loss: 1.5774e-05\n",
      "Epoch 24/100\n",
      "\u001b[1m88/88\u001b[0m \u001b[32m━━━━━━━━━━━━━━━━━━━━\u001b[0m\u001b[37m\u001b[0m \u001b[1m0s\u001b[0m 3ms/step - accuracy: 1.0000 - loss: 1.8851e-04 - val_accuracy: 1.0000 - val_loss: 1.7915e-05\n",
      "Epoch 25/100\n",
      "\u001b[1m88/88\u001b[0m \u001b[32m━━━━━━━━━━━━━━━━━━━━\u001b[0m\u001b[37m\u001b[0m \u001b[1m0s\u001b[0m 3ms/step - accuracy: 1.0000 - loss: 1.3169e-04 - val_accuracy: 1.0000 - val_loss: 1.0367e-05\n",
      "Epoch 26/100\n",
      "\u001b[1m88/88\u001b[0m \u001b[32m━━━━━━━━━━━━━━━━━━━━\u001b[0m\u001b[37m\u001b[0m \u001b[1m0s\u001b[0m 3ms/step - accuracy: 1.0000 - loss: 1.8813e-04 - val_accuracy: 1.0000 - val_loss: 1.0199e-05\n",
      "Epoch 27/100\n",
      "\u001b[1m88/88\u001b[0m \u001b[32m━━━━━━━━━━━━━━━━━━━━\u001b[0m\u001b[37m\u001b[0m \u001b[1m0s\u001b[0m 3ms/step - accuracy: 1.0000 - loss: 3.9121e-04 - val_accuracy: 1.0000 - val_loss: 1.2528e-05\n",
      "Epoch 28/100\n",
      "\u001b[1m88/88\u001b[0m \u001b[32m━━━━━━━━━━━━━━━━━━━━\u001b[0m\u001b[37m\u001b[0m \u001b[1m0s\u001b[0m 2ms/step - accuracy: 1.0000 - loss: 1.0907e-04 - val_accuracy: 1.0000 - val_loss: 8.4473e-06\n",
      "Epoch 29/100\n",
      "\u001b[1m88/88\u001b[0m \u001b[32m━━━━━━━━━━━━━━━━━━━━\u001b[0m\u001b[37m\u001b[0m \u001b[1m0s\u001b[0m 2ms/step - accuracy: 1.0000 - loss: 4.9765e-04 - val_accuracy: 1.0000 - val_loss: 9.8898e-06\n",
      "Epoch 30/100\n",
      "\u001b[1m88/88\u001b[0m \u001b[32m━━━━━━━━━━━━━━━━━━━━\u001b[0m\u001b[37m\u001b[0m \u001b[1m0s\u001b[0m 3ms/step - accuracy: 1.0000 - loss: 4.4085e-04 - val_accuracy: 1.0000 - val_loss: 1.2150e-05\n",
      "Epoch 31/100\n",
      "\u001b[1m88/88\u001b[0m \u001b[32m━━━━━━━━━━━━━━━━━━━━\u001b[0m\u001b[37m\u001b[0m \u001b[1m0s\u001b[0m 3ms/step - accuracy: 0.9998 - loss: 4.6207e-04 - val_accuracy: 1.0000 - val_loss: 1.3074e-05\n",
      "Epoch 32/100\n",
      "\u001b[1m88/88\u001b[0m \u001b[32m━━━━━━━━━━━━━━━━━━━━\u001b[0m\u001b[37m\u001b[0m \u001b[1m0s\u001b[0m 3ms/step - accuracy: 1.0000 - loss: 2.0478e-04 - val_accuracy: 1.0000 - val_loss: 8.7642e-06\n",
      "Epoch 33/100\n",
      "\u001b[1m88/88\u001b[0m \u001b[32m━━━━━━━━━━━━━━━━━━━━\u001b[0m\u001b[37m\u001b[0m \u001b[1m0s\u001b[0m 2ms/step - accuracy: 1.0000 - loss: 2.0792e-04 - val_accuracy: 1.0000 - val_loss: 9.1823e-06\n",
      "Epoch 34/100\n",
      "\u001b[1m88/88\u001b[0m \u001b[32m━━━━━━━━━━━━━━━━━━━━\u001b[0m\u001b[37m\u001b[0m \u001b[1m0s\u001b[0m 3ms/step - accuracy: 1.0000 - loss: 9.0461e-05 - val_accuracy: 1.0000 - val_loss: 5.2270e-06\n",
      "Epoch 35/100\n",
      "\u001b[1m88/88\u001b[0m \u001b[32m━━━━━━━━━━━━━━━━━━━━\u001b[0m\u001b[37m\u001b[0m \u001b[1m0s\u001b[0m 3ms/step - accuracy: 1.0000 - loss: 7.6298e-05 - val_accuracy: 1.0000 - val_loss: 4.1986e-06\n",
      "Epoch 36/100\n",
      "\u001b[1m88/88\u001b[0m \u001b[32m━━━━━━━━━━━━━━━━━━━━\u001b[0m\u001b[37m\u001b[0m \u001b[1m0s\u001b[0m 3ms/step - accuracy: 1.0000 - loss: 1.5681e-04 - val_accuracy: 1.0000 - val_loss: 3.9561e-06\n",
      "Epoch 37/100\n",
      "\u001b[1m88/88\u001b[0m \u001b[32m━━━━━━━━━━━━━━━━━━━━\u001b[0m\u001b[37m\u001b[0m \u001b[1m0s\u001b[0m 3ms/step - accuracy: 1.0000 - loss: 6.2690e-05 - val_accuracy: 1.0000 - val_loss: 3.2474e-05\n",
      "Epoch 38/100\n",
      "\u001b[1m88/88\u001b[0m \u001b[32m━━━━━━━━━━━━━━━━━━━━\u001b[0m\u001b[37m\u001b[0m \u001b[1m0s\u001b[0m 2ms/step - accuracy: 1.0000 - loss: 4.4869e-04 - val_accuracy: 1.0000 - val_loss: 6.1219e-06\n",
      "Epoch 39/100\n",
      "\u001b[1m88/88\u001b[0m \u001b[32m━━━━━━━━━━━━━━━━━━━━\u001b[0m\u001b[37m\u001b[0m \u001b[1m0s\u001b[0m 3ms/step - accuracy: 1.0000 - loss: 6.7656e-05 - val_accuracy: 1.0000 - val_loss: 3.1748e-06\n",
      "Epoch 40/100\n",
      "\u001b[1m88/88\u001b[0m \u001b[32m━━━━━━━━━━━━━━━━━━━━\u001b[0m\u001b[37m\u001b[0m \u001b[1m0s\u001b[0m 2ms/step - accuracy: 1.0000 - loss: 5.3372e-05 - val_accuracy: 1.0000 - val_loss: 2.5375e-06\n",
      "Epoch 41/100\n",
      "\u001b[1m88/88\u001b[0m \u001b[32m━━━━━━━━━━━━━━━━━━━━\u001b[0m\u001b[37m\u001b[0m \u001b[1m0s\u001b[0m 3ms/step - accuracy: 0.9996 - loss: 0.0016 - val_accuracy: 1.0000 - val_loss: 8.2548e-06\n",
      "Epoch 42/100\n",
      "\u001b[1m88/88\u001b[0m \u001b[32m━━━━━━━━━━━━━━━━━━━━\u001b[0m\u001b[37m\u001b[0m \u001b[1m0s\u001b[0m 2ms/step - accuracy: 0.9989 - loss: 0.0073 - val_accuracy: 1.0000 - val_loss: 2.1755e-05\n",
      "Epoch 43/100\n",
      "\u001b[1m88/88\u001b[0m \u001b[32m━━━━━━━━━━━━━━━━━━━━\u001b[0m\u001b[37m\u001b[0m \u001b[1m0s\u001b[0m 3ms/step - accuracy: 1.0000 - loss: 1.7523e-04 - val_accuracy: 1.0000 - val_loss: 1.5230e-05\n",
      "Epoch 44/100\n",
      "\u001b[1m88/88\u001b[0m \u001b[32m━━━━━━━━━━━━━━━━━━━━\u001b[0m\u001b[37m\u001b[0m \u001b[1m0s\u001b[0m 2ms/step - accuracy: 1.0000 - loss: 1.1026e-04 - val_accuracy: 1.0000 - val_loss: 8.9201e-06\n",
      "Epoch 45/100\n",
      "\u001b[1m88/88\u001b[0m \u001b[32m━━━━━━━━━━━━━━━━━━━━\u001b[0m\u001b[37m\u001b[0m \u001b[1m0s\u001b[0m 3ms/step - accuracy: 1.0000 - loss: 1.1423e-04 - val_accuracy: 1.0000 - val_loss: 9.6379e-06\n",
      "Epoch 46/100\n",
      "\u001b[1m88/88\u001b[0m \u001b[32m━━━━━━━━━━━━━━━━━━━━\u001b[0m\u001b[37m\u001b[0m \u001b[1m0s\u001b[0m 3ms/step - accuracy: 1.0000 - loss: 7.5244e-05 - val_accuracy: 1.0000 - val_loss: 5.9044e-06\n",
      "Epoch 47/100\n",
      "\u001b[1m88/88\u001b[0m \u001b[32m━━━━━━━━━━━━━━━━━━━━\u001b[0m\u001b[37m\u001b[0m \u001b[1m0s\u001b[0m 3ms/step - accuracy: 1.0000 - loss: 1.2509e-04 - val_accuracy: 1.0000 - val_loss: 4.4057e-06\n",
      "Epoch 48/100\n",
      "\u001b[1m88/88\u001b[0m \u001b[32m━━━━━━━━━━━━━━━━━━━━\u001b[0m\u001b[37m\u001b[0m \u001b[1m0s\u001b[0m 3ms/step - accuracy: 1.0000 - loss: 5.4565e-05 - val_accuracy: 1.0000 - val_loss: 4.5924e-06\n",
      "Epoch 49/100\n",
      "\u001b[1m88/88\u001b[0m \u001b[32m━━━━━━━━━━━━━━━━━━━━\u001b[0m\u001b[37m\u001b[0m \u001b[1m0s\u001b[0m 3ms/step - accuracy: 0.9996 - loss: 0.0022 - val_accuracy: 1.0000 - val_loss: 2.3701e-05\n",
      "Epoch 50/100\n",
      "\u001b[1m88/88\u001b[0m \u001b[32m━━━━━━━━━━━━━━━━━━━━\u001b[0m\u001b[37m\u001b[0m \u001b[1m0s\u001b[0m 2ms/step - accuracy: 1.0000 - loss: 1.6717e-04 - val_accuracy: 1.0000 - val_loss: 1.3658e-05\n",
      "Epoch 50: early stopping\n"
     ]
    }
   ],
   "source": [
    "history = model.fit(\n",
    "    x=X_train,\n",
    "    y=y_train,\n",
    "    epochs=100, # 16000 * 100\n",
    "    batch_size=32,\n",
    "    validation_data=(X_test,y_test),\n",
    "    callbacks=[early_stop]\n",
    ")"
   ]
  },
  {
   "cell_type": "code",
   "execution_count": 35,
   "metadata": {},
   "outputs": [
    {
     "name": "stdout",
     "output_type": "stream",
     "text": [
      "\u001b[1m38/38\u001b[0m \u001b[32m━━━━━━━━━━━━━━━━━━━━\u001b[0m\u001b[37m\u001b[0m \u001b[1m0s\u001b[0m 2ms/step - accuracy: 1.0000 - loss: 1.3374e-05\n",
      "Test Loss: 0.0000, Test Accuracy: 1.0000\n"
     ]
    }
   ],
   "source": [
    "loss, accuracy = model.evaluate(X_test, y_test)\n",
    "print(f\"Test Loss: {loss:.4f}, Test Accuracy: {accuracy:.4f}\")"
   ]
  },
  {
   "cell_type": "code",
   "execution_count": 36,
   "metadata": {},
   "outputs": [
    {
     "name": "stdout",
     "output_type": "stream",
     "text": [
      "\u001b[1m38/38\u001b[0m \u001b[32m━━━━━━━━━━━━━━━━━━━━\u001b[0m\u001b[37m\u001b[0m \u001b[1m0s\u001b[0m 3ms/step\n"
     ]
    }
   ],
   "source": [
    "predictions = model.predict(X_test)  # Make predictions on training data for evaluation"
   ]
  },
  {
   "cell_type": "code",
   "execution_count": 37,
   "metadata": {},
   "outputs": [],
   "source": [
    "train_acc = history.history[\"accuracy\"]\n",
    "val_acc = history.history[\"val_accuracy\"]\n",
    "train_loss = history.history[\"loss\"]\n",
    "val_loss = history.history[\"val_loss\"]\n"
   ]
  },
  {
   "cell_type": "code",
   "execution_count": 38,
   "metadata": {},
   "outputs": [
    {
     "data": {
      "image/png": "[encoded data removed]",
      "text/plain": [
       "<Figure size 800x600 with 1 Axes>"
      ]
     },
     "metadata": {},
     "output_type": "display_data"
    }
   ],
   "source": [
    "# Plot accuracy\n",
    "plt.figure(figsize=(8, 6))\n",
    "plt.plot(train_acc, label=\"Training Accuracy\")\n",
    "plt.plot(val_acc, label=\"Validation Accuracy\")\n",
    "plt.title(\"Training and Validation Accuracy\")\n",
    "plt.xlabel(\"Epoch\")\n",
    "plt.ylabel(\"Accuracy\")\n",
    "plt.legend()\n",
    "plt.show()\n"
   ]
  },
  {
   "cell_type": "code",
   "execution_count": 39,
   "metadata": {},
   "outputs": [
    {
     "data": {
      "image/png": "[encoded data removed]",
      "text/plain": [
       "<Figure size 800x600 with 1 Axes>"
      ]
     },
     "metadata": {},
     "output_type": "display_data"
    }
   ],
   "source": [
    "# Plot loss (optional on a separate plot)\n",
    "plt.figure(figsize=(8, 6))\n",
    "plt.plot(train_loss, label=\"Training Loss\")\n",
    "plt.plot(val_loss, label=\"Validation Loss\")\n",
    "plt.title(\"Training and Validation Loss\")\n",
    "plt.xlabel(\"Epoch\")\n",
    "plt.ylabel(\"Loss\")\n",
    "plt.legend()\n",
    "plt.show()"
   ]
  },
  {
   "cell_type": "code",
   "execution_count": 40,
   "metadata": {},
   "outputs": [
    {
     "data": {
      "text/plain": [
       "array([0, 0, 0, ..., 0, 0, 0], dtype=int64)"
      ]
     },
     "execution_count": 40,
     "metadata": {},
     "output_type": "execute_result"
    }
   ],
   "source": [
    "# Assuming predictions contains probabilities for each class\n",
    "predicted_classes = np.argmax(predictions, axis=1)  # Get the class with the highest probability for each sample\n",
    "predicted_classes"
   ]
  },
  {
   "cell_type": "code",
   "execution_count": 41,
   "metadata": {},
   "outputs": [
    {
     "name": "stdout",
     "output_type": "stream",
     "text": [
      "[[580   0]\n",
      " [621   0]]\n"
     ]
    }
   ],
   "source": [
    "# Calculate the confusion matrix\n",
    "cm = confusion_matrix(y_test, predicted_classes)\n",
    "\n",
    "# Print or visualize the confusion matrix (using libraries like seaborn)\n",
    "print(cm)"
   ]
  },
  {
   "cell_type": "code",
   "execution_count": 42,
   "metadata": {},
   "outputs": [],
   "source": [
    "def plot_confusion_matrix(cm, class_names):\n",
    "    \"\"\"\n",
    "        Plots a confusion matrix with labels and optional normalization.\n",
    "\n",
    "        Args:\n",
    "            cm: Confusion matrix (2D numpy array).\n",
    "            class_names: List of class names (strings).\n",
    "    \"\"\"\n",
    "    plt.figure(figsize=(8, 6))\n",
    "    plt.imshow(cm, cmap='Blues')\n",
    "    plt.colorbar()\n",
    "    tick_marks = np.arange(len(class_names))\n",
    "    plt.xticks(tick_marks, class_names, rotation=45)\n",
    "    plt.yticks(tick_marks, class_names)\n",
    "\n",
    "    plt.ylabel('True Label')\n",
    "    plt.xlabel('Predicted Label')\n",
    "    # plt.tight_layout()\n",
    "    plt.show()\n"
   ]
  },
  {
   "cell_type": "code",
   "execution_count": 43,
   "metadata": {},
   "outputs": [
    {
     "data": {
      "image/png": "[encoded data removed]",
      "text/plain": [
       "<Figure size 640x480 with 2 Axes>"
      ]
     },
     "metadata": {},
     "output_type": "display_data"
    }
   ],
   "source": [
    "plt.imshow(cm, cmap='Blues')\n",
    "plt.ylabel('True Label')\n",
    "plt.xlabel('Predicted Label')\n",
    "plt.colorbar()\n",
    "plt.show()"
   ]
  },
  {
   "cell_type": "code",
   "execution_count": 44,
   "metadata": {},
   "outputs": [],
   "source": [
    "os.makedirs('./output', exist_ok=True)\n",
    "model.save('./output/distribution_trainsformer_new_data.keras')"
   ]
  },
  {
   "cell_type": "code",
   "execution_count": 45,
   "metadata": {},
   "outputs": [
    {
     "name": "stdout",
     "output_type": "stream",
     "text": [
      "\u001b[1m38/38\u001b[0m \u001b[32m━━━━━━━━━━━━━━━━━━━━\u001b[0m\u001b[37m\u001b[0m \u001b[1m0s\u001b[0m 1ms/step\n"
     ]
    },
    {
     "data": {
      "text/html": [
       "<div>\n",
       "<style scoped>\n",
       "    .dataframe tbody tr th:only-of-type {\n",
       "        vertical-align: middle;\n",
       "    }\n",
       "\n",
       "    .dataframe tbody tr th {\n",
       "        vertical-align: top;\n",
       "    }\n",
       "\n",
       "    .dataframe thead th {\n",
       "        text-align: right;\n",
       "    }\n",
       "</style>\n",
       "<table border=\"1\" class=\"dataframe\">\n",
       "  <thead>\n",
       "    <tr style=\"text-align: right;\">\n",
       "      <th></th>\n",
       "      <th>Actual</th>\n",
       "      <th>Predicted</th>\n",
       "    </tr>\n",
       "  </thead>\n",
       "  <tbody>\n",
       "    <tr>\n",
       "      <th>1202</th>\n",
       "      <td>0</td>\n",
       "      <td>0</td>\n",
       "    </tr>\n",
       "    <tr>\n",
       "      <th>803</th>\n",
       "      <td>1</td>\n",
       "      <td>0</td>\n",
       "    </tr>\n",
       "    <tr>\n",
       "      <th>1937</th>\n",
       "      <td>0</td>\n",
       "      <td>0</td>\n",
       "    </tr>\n",
       "    <tr>\n",
       "      <th>891</th>\n",
       "      <td>0</td>\n",
       "      <td>0</td>\n",
       "    </tr>\n",
       "    <tr>\n",
       "      <th>295</th>\n",
       "      <td>1</td>\n",
       "      <td>0</td>\n",
       "    </tr>\n",
       "    <tr>\n",
       "      <th>483</th>\n",
       "      <td>0</td>\n",
       "      <td>0</td>\n",
       "    </tr>\n",
       "    <tr>\n",
       "      <th>1408</th>\n",
       "      <td>0</td>\n",
       "      <td>0</td>\n",
       "    </tr>\n",
       "    <tr>\n",
       "      <th>1816</th>\n",
       "      <td>0</td>\n",
       "      <td>0</td>\n",
       "    </tr>\n",
       "    <tr>\n",
       "      <th>1440</th>\n",
       "      <td>0</td>\n",
       "      <td>0</td>\n",
       "    </tr>\n",
       "    <tr>\n",
       "      <th>1732</th>\n",
       "      <td>0</td>\n",
       "      <td>0</td>\n",
       "    </tr>\n",
       "    <tr>\n",
       "      <th>993</th>\n",
       "      <td>0</td>\n",
       "      <td>0</td>\n",
       "    </tr>\n",
       "    <tr>\n",
       "      <th>787</th>\n",
       "      <td>1</td>\n",
       "      <td>0</td>\n",
       "    </tr>\n",
       "    <tr>\n",
       "      <th>972</th>\n",
       "      <td>0</td>\n",
       "      <td>0</td>\n",
       "    </tr>\n",
       "    <tr>\n",
       "      <th>776</th>\n",
       "      <td>1</td>\n",
       "      <td>0</td>\n",
       "    </tr>\n",
       "    <tr>\n",
       "      <th>48</th>\n",
       "      <td>1</td>\n",
       "      <td>0</td>\n",
       "    </tr>\n",
       "  </tbody>\n",
       "</table>\n",
       "</div>"
      ],
      "text/plain": [
       "      Actual  Predicted\n",
       "1202       0          0\n",
       "803        1          0\n",
       "1937       0          0\n",
       "891        0          0\n",
       "295        1          0\n",
       "483        0          0\n",
       "1408       0          0\n",
       "1816       0          0\n",
       "1440       0          0\n",
       "1732       0          0\n",
       "993        0          0\n",
       "787        1          0\n",
       "972        0          0\n",
       "776        1          0\n",
       "48         1          0"
      ]
     },
     "execution_count": 45,
     "metadata": {},
     "output_type": "execute_result"
    }
   ],
   "source": [
    "# show a dataframe of the prediction and the actual\n",
    "\n",
    "y_pred = model.predict(X_test)\n",
    "cross_check = pd.DataFrame({'Actual': y_test, 'Predicted': np.argmax(y_pred, axis=1)})\n",
    "cross_check.sample(15)"
   ]
  },
  {
   "cell_type": "code",
   "execution_count": 46,
   "metadata": {},
   "outputs": [],
   "source": [
    "# check the number of predictions that are correct\n",
    "cross_check['Correct'] = cross_check['Actual'] == cross_check['Predicted']"
   ]
  },
  {
   "cell_type": "code",
   "execution_count": 47,
   "metadata": {},
   "outputs": [
    {
     "data": {
      "text/plain": [
       "Correct\n",
       "False    621\n",
       "True     580\n",
       "Name: count, dtype: int64"
      ]
     },
     "execution_count": 47,
     "metadata": {},
     "output_type": "execute_result"
    }
   ],
   "source": [
    "cross_check['Correct'].value_counts()"
   ]
  },
  {
   "cell_type": "code",
   "execution_count": null,
   "metadata": {},
   "outputs": [],
   "source": []
  }
 ],
 "metadata": {
  "kernelspec": {
   "display_name": ".venv",
   "language": "python",
   "name": "python3"
  },
  "language_info": {
   "codemirror_mode": {
    "name": "ipython",
    "version": 3
   },
   "file_extension": ".py",
   "mimetype": "text/x-python",
   "name": "python",
   "nbconvert_exporter": "python",
   "pygments_lexer": "ipython3",
   "version": "3.11.9"
  }
 },
 "nbformat": 4,
 "nbformat_minor": 2
}
